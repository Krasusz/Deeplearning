{
 "cells": [
  {
   "cell_type": "code",
   "execution_count": 49,
   "metadata": {
    "collapsed": true
   },
   "outputs": [],
   "source": [
    "import tensorflow as tf\n",
    "import numpy as np\n",
    "import math"
   ]
  },
  {
   "cell_type": "code",
   "execution_count": 94,
   "metadata": {
    "collapsed": true
   },
   "outputs": [],
   "source": [
    "x = tf.placeholder(tf.float32, shape = [None,2], name = 'x-input')\n",
    "y = tf.placeholder(tf.float32, shape = [None,2], name = 'y-input')"
   ]
  },
  {
   "cell_type": "code",
   "execution_count": 95,
   "metadata": {
    "collapsed": false
   },
   "outputs": [],
   "source": [
    "hidden_nodes = 5\n",
    "\n",
    "W_hidden = tf.Variable(tf.random_uniform([2,hidden_nodes], -1, 1))\n",
    "b_hidden = tf.Variable(tf.zeros([hidden_nodes]))\n",
    "\n",
    "h = tf.nn.relu(tf.matmul(x, W_hidden) + b_hidden)"
   ]
  },
  {
   "cell_type": "code",
   "execution_count": 96,
   "metadata": {
    "collapsed": false
   },
   "outputs": [],
   "source": [
    "W_output = tf.Variable(tf.random_uniform([hidden_nodes,2], -1, 1))\n",
    "b_output = tf.Variable(tf.zeros([2]))\n",
    "\n",
    "y_temp = tf.matmul(h, W_output) + b_output\n",
    "y_ = tf.nn.softmax(y_temp)"
   ]
  },
  {
   "cell_type": "code",
   "execution_count": 97,
   "metadata": {
    "collapsed": false
   },
   "outputs": [],
   "source": [
    "cross_entropy = tf.nn.softmax_cross_entropy_with_logits(y_temp,y)\n",
    "cost = tf.reduce_mean(cross_entropy)"
   ]
  },
  {
   "cell_type": "code",
   "execution_count": 98,
   "metadata": {
    "collapsed": true
   },
   "outputs": [],
   "source": [
    "train_op = tf.train.GradientDescentOptimizer(0.1).minimize(cost)\n",
    "\n",
    "init_op = tf.initialize_all_variables()"
   ]
  },
  {
   "cell_type": "code",
   "execution_count": 99,
   "metadata": {
    "collapsed": true
   },
   "outputs": [],
   "source": [
    "sess = tf.Session()\n",
    "sess.run(init_op)"
   ]
  },
  {
   "cell_type": "code",
   "execution_count": 100,
   "metadata": {
    "collapsed": false
   },
   "outputs": [],
   "source": [
    "xTrain = np.array([[0, 0], [0, 1], [1, 0], [1, 1]])\n",
    "yTrain = np.array([[1, 0], [0, 1], [0, 1], [1, 0]])"
   ]
  },
  {
   "cell_type": "code",
   "execution_count": 101,
   "metadata": {
    "collapsed": false,
    "scrolled": true
   },
   "outputs": [
    {
     "name": "stdout",
     "output_type": "stream",
     "text": [
      "Step: 0 Current loss: 0.993244\n",
      "[0, 0] [[ 0.49955642  0.50044364]]\n",
      "[0, 1] [[ 0.83083171  0.16916829]]\n",
      "[1, 0] [[ 0.27119949  0.72880054]]\n",
      "[1, 1] [[ 0.35375392  0.64624614]]\n",
      "Step: 100 Current loss: 0.233837\n",
      "[0, 0] [[ 0.70882499  0.29117504]]\n",
      "[0, 1] [[ 0.12927169  0.87072831]]\n",
      "[1, 0] [[ 0.17957692  0.82042313]]\n",
      "[1, 1] [[ 0.77997816  0.22002183]]\n",
      "Step: 200 Current loss: 0.0933981\n",
      "[0, 0] [[ 0.85644174  0.14355826]]\n",
      "[0, 1] [[ 0.0586132   0.94138676]]\n",
      "[1, 0] [[ 0.07026667  0.92973328]]\n",
      "[1, 1] [[ 0.92134333  0.07865669]]\n",
      "Step: 300 Current loss: 0.0501792\n",
      "[0, 0] [[ 0.91420609  0.08579394]]\n",
      "[0, 1] [[ 0.03337394  0.96662605]]\n",
      "[1, 0] [[ 0.0366743   0.96332568]]\n",
      "[1, 1] [[ 0.96204621  0.03795375]]\n",
      "Step: 400 Current loss: 0.0323205\n",
      "[0, 0] [[ 0.9417274   0.05827259]]\n",
      "[0, 1] [[ 0.02168444  0.97831559]]\n",
      "[1, 0] [[ 0.02364073  0.97635925]]\n",
      "[1, 1] [[ 0.97752863  0.0224714 ]]\n"
     ]
    }
   ],
   "source": [
    "for i in xrange(500):\n",
    "  _, cost_val = sess.run([train_op, cost], feed_dict={x: xTrain, y: yTrain})\n",
    "\n",
    "  if i % 100 == 0:\n",
    "    print \"Step:\", i, \"Current loss:\", cost_val\n",
    "    for x_input in [[0, 0], [0, 1], [1, 0], [1, 1]]:\n",
    "        print x_input, sess.run(y_, feed_dict={x: [x_input]})\n",
    " "
   ]
  },
  {
   "cell_type": "code",
   "execution_count": null,
   "metadata": {
    "collapsed": true
   },
   "outputs": [],
   "source": []
  }
 ],
 "metadata": {
  "kernelspec": {
   "display_name": "Python 2",
   "language": "python",
   "name": "python2"
  },
  "language_info": {
   "codemirror_mode": {
    "name": "ipython",
    "version": 2
   },
   "file_extension": ".py",
   "mimetype": "text/x-python",
   "name": "python",
   "nbconvert_exporter": "python",
   "pygments_lexer": "ipython2",
   "version": "2.7.11"
  }
 },
 "nbformat": 4,
 "nbformat_minor": 0
}
